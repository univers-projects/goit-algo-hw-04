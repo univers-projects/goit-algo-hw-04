{
 "cells": [
  {
   "cell_type": "markdown",
   "id": "a27918ba",
   "metadata": {},
   "source": [
    "# Sorting Algorithms Benchmark in Python (Jupyter Workflow)\n",
    "\n",
    "This notebook guides you through an **empirical comparison** of three sorting algorithms:\n",
    "\n",
    "- **Insertion Sort** (simple, quadratic-time worst/average)\n",
    "- **Merge Sort** (divide-and-conquer, O(n log n))\n",
    "- **Timsort** (Python's built-in `sorted`/`.sort()`), a hybrid of merge sort and insertion sort that is **adaptive** to existing runs\n",
    "\n",
    "## Objectives\n",
    "\n",
    "1. Implement the algorithms (in pure Python for insertion/merge; use `sorted` for Timsort).\n",
    "2. Generate different input patterns: **random**, **already-sorted**, **reversed**, and **nearly-sorted**.\n",
    "3. Benchmark with `timeit` over increasing array sizes; use the **median** over multiple runs.\n",
    "4. Visualize results and **validate theoretical complexities** empirically.\n",
    "5. Show why **Timsort** tends to outperform pure merge sort and insertion sort in practice.\n",
    "\n",
    "> Run cells from top to bottom. Adjust parameters (sizes, repeats) as needed for your machine."
   ]
  },
  {
   "cell_type": "markdown",
   "id": "d05c50f5",
   "metadata": {},
   "source": [
    "## 1. Imports & Environment\n",
    "\n",
    "We rely on `timeit`, `random`, `pandas`, and `matplotlib`. If something is missing, install it before continuing.\n"
   ]
  },
  {
   "cell_type": "code",
   "id": "94df6cf4",
   "metadata": {},
   "source": [
    "import sys, platform\n",
    "print(f'Python: {sys.version.split()[0]} on {platform.system()} {platform.release()}')"
   ],
   "outputs": [],
   "execution_count": null
  },
  {
   "cell_type": "code",
   "id": "74182f1d",
   "metadata": {},
   "source": [
    "import timeit\n",
    "import random\n",
    "\n",
    "import pandas as pd\n",
    "import matplotlib.pyplot as plt"
   ],
   "outputs": [],
   "execution_count": null
  },
  {
   "cell_type": "markdown",
   "id": "17c5a3de",
   "metadata": {},
   "source": [
    "## 2. Sorting Algorithms\n",
    "\n",
    "- `insertion_sort`: in-place-like behavior but returns a new list (operates on a copy).\n",
    "- `merge_sort`: classic top-down recursive merge sort, returning a new list.\n",
    "- `timsort_builtin`: wrapper around Python's `sorted` (i.e., Timsort).\n"
   ]
  },
  {
   "cell_type": "code",
   "id": "1572ed05",
   "metadata": {},
   "source": [
    "from typing import List\n",
    "\n",
    "def insertion_sort(arr: List[int]) -> List[int]:\n",
    "    a = arr[:]\n",
    "    for i in range(1, len(a)):\n",
    "        key = a[i]\n",
    "        j = i - 1\n",
    "        while j >= 0 and a[j] > key:\n",
    "            a[j + 1] = a[j]\n",
    "            j -= 1\n",
    "        a[j + 1] = key\n",
    "    return a\n",
    "\n",
    "def merge_sort(arr: List[int]) -> List[int]:\n",
    "    if len(arr) <= 1:\n",
    "        return arr[:]\n",
    "    mid = len(arr) // 2\n",
    "    left = merge_sort(arr[:mid])\n",
    "    right = merge_sort(arr[mid:])\n",
    "    i = j = 0\n",
    "    merged = []\n",
    "    append = merged.append\n",
    "    while i < len(left) and j < len(right):\n",
    "        if left[i] <= right[j]:\n",
    "            append(left[i]); i += 1\n",
    "        else:\n",
    "            append(right[j]); j += 1\n",
    "    if i < len(left):\n",
    "        merged.extend(left[i:])\n",
    "    if j < len(right):\n",
    "        merged.extend(right[j:])\n",
    "    return merged\n",
    "\n",
    "def timsort_builtin(arr: List[int]) -> List[int]:\n",
    "    return sorted(arr)\n"
   ],
   "outputs": [],
   "execution_count": null
  },
  {
   "cell_type": "markdown",
   "id": "8f636b12",
   "metadata": {},
   "source": [
    "## 3. Data Generators\n",
    "\n",
    "We will benchmark on four patterns:\n",
    "- **random**\n",
    "- **already-sorted**\n",
    "- **reversed**\n",
    "- **nearly-sorted** (few random swaps applied to a sorted array)\n"
   ]
  },
  {
   "cell_type": "code",
   "id": "2da1716c",
   "metadata": {},
   "source": [
    "from typing import Callable, Dict\n",
    "\n",
    "def gen_random(n: int, seed: int = 42) -> List[int]:\n",
    "    rnd = random.Random(seed)\n",
    "    return [rnd.randint(0, 10**9) for _ in range(n)]\n",
    "\n",
    "def gen_sorted(n: int) -> List[int]:\n",
    "    return list(range(n))\n",
    "\n",
    "def gen_reversed(n: int) -> List[int]:\n",
    "    return list(range(n, 0, -1))\n",
    "\n",
    "def gen_nearly_sorted(n: int, swaps_ratio: float = 0.05, seed: int = 123) -> List[int]:\n",
    "    a = list(range(n))\n",
    "    rnd = random.Random(seed)\n",
    "    swaps = max(1, int(n * swaps_ratio))\n",
    "    for _ in range(swaps):\n",
    "        i = rnd.randrange(n)\n",
    "        j = rnd.randrange(n)\n",
    "        a[i], a[j] = a[j], a[i]\n",
    "    return a\n",
    "\n",
    "PATTERNS: Dict[str, Callable[[int], List[int]]] = {\n",
    "    \"random\": gen_random,\n",
    "    \"sorted\": gen_sorted,\n",
    "    \"reversed\": gen_reversed,\n",
    "    \"nearly_sorted\": gen_nearly_sorted,\n",
    "}"
   ],
   "outputs": [],
   "execution_count": null
  },
  {
   "cell_type": "markdown",
   "id": "1c260e07",
   "metadata": {},
   "source": [
    "## 4. Quick Sanity Checks\n",
    "\n",
    "Verify that our implementations actually sort correctly by comparing with `sorted()`.\n"
   ]
  },
  {
   "cell_type": "code",
   "id": "2a982a90",
   "metadata": {},
   "source": [
    "def sanity_check():\n",
    "    samples = [\n",
    "        [3,1,4,1,5,9,2,6],\n",
    "        [],\n",
    "        [1],\n",
    "        [2,2,2,1,1,3],\n",
    "        list(range(10)),\n",
    "        list(range(10, 0, -1)),\n",
    "    ]\n",
    "    algos = [insertion_sort, merge_sort, timsort_builtin]\n",
    "    for s in samples:\n",
    "        gold = sorted(s)\n",
    "        for algo in algos:\n",
    "            assert algo(s) == gold, f\"{algo.__name__} failed on {s}\"\n",
    "    print(\"All sanity checks passed.\")\n",
    "    \n",
    "sanity_check()"
   ],
   "outputs": [],
   "execution_count": null
  },
  {
   "cell_type": "markdown",
   "id": "5163c4e9",
   "metadata": {},
   "source": [
    "## 5. Timing Helper (`timeit`)\n",
    "\n",
    "We measure the **median** time over several repeats to reduce noise.\n"
   ]
  },
  {
   "cell_type": "code",
   "id": "91d2fb8c",
   "metadata": {},
   "source": [
    "from statistics import median\n",
    "from typing import Callable\n",
    "\n",
    "def time_algorithm(func: Callable[[List[int]], List[int]], data: List[int], repeat: int = 5) -> float:\n",
    "    \"\"\"Return median time (seconds) over `repeat` runs for sorting `data` with `func`.\"\"\"\n",
    "    def run():\n",
    "        out = func(list(data))\n",
    "        assert out == sorted(data)\n",
    "    times = timeit.repeat(run, number=1, repeat=repeat)\n",
    "    return median(times)"
   ],
   "outputs": [],
   "execution_count": null
  },
  {
   "cell_type": "markdown",
   "id": "7ccc29b2",
   "metadata": {},
   "source": [
    "## 6. Configure Benchmark Parameters\n",
    "\n",
    "Adjust sizes and repeats depending on your machine. Insertion sort is **O(n²)**,\n",
    "so keep its sizes moderate to avoid very long runs.\n"
   ]
  },
  {
   "cell_type": "code",
   "id": "770f9cdd",
   "metadata": {},
   "source": [
    "ALGORITHMS: Dict[str, Callable[[List[int]], List[int]]] = {\n",
    "    \"insertion\": insertion_sort,\n",
    "    \"merge\": merge_sort,\n",
    "    \"timsort\": timsort_builtin,\n",
    "}\n",
    "\n",
    "SIZES = [200, 400, 800, 1600, 3200, 6400]\n",
    "\n",
    "REPEATS = 5\n",
    "\n",
    "SIZES, REPEATS"
   ],
   "outputs": [],
   "execution_count": null
  },
  {
   "cell_type": "markdown",
   "id": "0932649b",
   "metadata": {},
   "source": [
    "## 7. Run Benchmarks\n",
    "\n",
    "This will generate a Pandas DataFrame with results across patterns, sizes, and algorithms.\n"
   ]
  },
  {
   "cell_type": "code",
   "id": "93fa2e9b",
   "metadata": {},
   "source": [
    "results = []\n",
    "for pattern_name, generator in PATTERNS.items():\n",
    "    for n in SIZES:\n",
    "        data = generator(n)\n",
    "        for algo_name, algo in ALGORITHMS.items():\n",
    "            if algo_name == \"insertion\" and n > 6400:\n",
    "                continue\n",
    "            t = time_algorithm(algo, data, repeat=REPEATS)\n",
    "            results.append({\n",
    "                \"pattern\": pattern_name,\n",
    "                \"n\": n,\n",
    "                \"algorithm\": algo_name,\n",
    "                \"time_sec\": t,\n",
    "            })\n",
    "\n",
    "df = pd.DataFrame(results).sort_values([\"pattern\", \"n\", \"algorithm\"]).reset_index(drop=True)\n",
    "df"
   ],
   "outputs": [],
   "execution_count": null
  },
  {
   "cell_type": "markdown",
   "id": "dd0ee8f5",
   "metadata": {},
   "source": [
    "## 8. Plot Results\n",
    "\n",
    "One figure per data pattern. We keep the plotting simple and consistent with the constraints.\n"
   ]
  },
  {
   "cell_type": "code",
   "id": "7fdaafb1",
   "metadata": {},
   "source": [
    "from pathlib import Path\n",
    "\n",
    "def plot_pattern(df_pattern: pd.DataFrame, pattern_name: str) -> Path:\n",
    "    plt.figure(figsize=(7, 5))\n",
    "    for algo_name in sorted(df_pattern[\"algorithm\"].unique()):\n",
    "        sub = df_pattern[df_pattern[\"algorithm\"] == algo_name]\n",
    "        plt.plot(sub[\"n\"], sub[\"time_sec\"], marker=\"o\", label=algo_name)\n",
    "    plt.xlabel(\"n (array size)\")\n",
    "    plt.ylabel(\"Time (seconds, median of runs)\")\n",
    "    plt.title(f\"Sorting performance on '{pattern_name}' data\")\n",
    "    plt.legend()\n",
    "    out_path = Path(f\"sort_perf_{pattern_name}.png\")\n",
    "    plt.savefig(out_path, bbox_inches=\"tight\", dpi=150)\n",
    "    plt.show()\n",
    "    return out_path\n",
    "\n",
    "image_paths = []\n",
    "for pattern in PATTERNS.keys():\n",
    "    image_paths.append(plot_pattern(df[df[\"pattern\"] == pattern], pattern))\n",
    "\n",
    "image_paths"
   ],
   "outputs": [],
   "execution_count": null
  },
  {
   "cell_type": "markdown",
   "id": "4afd169b",
   "metadata": {},
   "source": [
    "## 9. Analysis\n",
    "\n",
    "**Theory recap:**  \n",
    "- Insertion sort: **O(n²)** average/worst, but **O(n)** on already-sorted data.  \n",
    "- Merge sort: **O(n log n)** in all cases.  \n",
    "- Timsort: **O(n log n)** worst/average, but **adaptive**: very fast on partially sorted data by exploiting natural runs and using insertion sort on small runs.\n",
    "\n",
    "**Empirical observations to look for in the plots:**  \n",
    "- Insertion sort grows quadratically on random/reversed inputs and becomes much slower than the others as `n` increases.  \n",
    "- Merge sort shows near-linearithmic scaling and is consistently competitive.  \n",
    "- Timsort generally outperforms merge sort (often by a notable margin), and can be especially strong on sorted/nearly-sorted inputs.\n",
    "\n",
    "In practice `sorted()`/`.sort()` is preferable because it is **highly optimized, adaptive, and stable**, combining the strengths of merge and insertion sorts.\n"
   ]
  }
 ],
 "metadata": {},
 "nbformat": 4,
 "nbformat_minor": 5
}
